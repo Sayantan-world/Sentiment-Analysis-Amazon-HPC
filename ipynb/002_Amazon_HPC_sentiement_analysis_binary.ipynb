{
 "cells": [
  {
   "cell_type": "markdown",
   "metadata": {},
   "source": [
    "## Sentiment analysis - Amazon Health and Personal Care Reviews - Part 2\n",
    "![](https://gitlab.com/sayantan.world98/sentiment-analysis-amazon-health-and-personal-care/-/raw/master/images/img1.jpg)\n",
    "\n",
    "Sentiment analysis is the use of natural language processing, text analysis, computational linguistics, and biometrics to systematically identify, extract, quantify, and study affective states and subjective information.\n",
    "\n",
    "We are using the **Amazon Health and Personal Care Reviews** dataset to perfom Sentiment Analysis. The dataset contains **346,355 reviews**.\n",
    "\n",
    "Link to the original dataset source: http://jmcauley.ucsd.edu/data/amazon/\n",
    "\n",
    "Find the project and dataset here: https://gitlab.com/sayantan.world98/sentiment-analysis-amazon-health-and-personal-care\n",
    "\n",
    "Lets see what is there in our dataset.\n",
    "\n",
    "Sample data\n",
    "```\n",
    "{\n",
    "  \"reviewerID\": \"A2SUAM1J3GNN3B\",\n",
    "  \"asin\": \"0000013714\",\n",
    "  \"reviewerName\": \"J. McDonald\",\n",
    "  \"helpful\": [2, 3],\n",
    "  \"reviewText\": \"I bought this for my husband who plays the piano.  He is having a wonderful time playing these old hymns.  The music  is at times hard to read because we think the book was published for singing from more than playing from.  Great purchase though!\",\n",
    "  \"overall\": 5.0,\n",
    "  \"summary\": \"Heavenly Highway Hymns\",\n",
    "  \"unixReviewTime\": 1252800000,\n",
    "  \"reviewTime\": \"09 13, 2009\"\n",
    "}\n",
    "```\n",
    "Where,\n",
    "\n",
    "- reviewerID - ID of the reviewer, e.g. A2SUAM1J3GNN3B\n",
    "- asin - ID of the product, e.g. 0000013714\n",
    "- reviewerName - name of the reviewer\n",
    "- helpful - helpfulness rating of the review, e.g. 2/3\n",
    "- reviewText - text of the review\n",
    "- overall - rating of the product\n",
    "- summary - summary of the review\n",
    "- unixReviewTime - time of the review (unix time)\n",
    "- reviewTime - time of the review (raw)\n",
    "\n"
   ]
  },
  {
   "cell_type": "markdown",
   "metadata": {
    "id": "E5yYvjJhoLSy"
   },
   "source": [
    "### Sentiment Analysis using Word2Vec\n",
    "\n",
    "**<font color='red'>Please read Part 1 before proceeding with this notebook.</font>**\n",
    "\n",
    "![](https://gitlab.com/sayantan.world98/sentiment-analysis-amazon-health-and-personal-care/-/raw/master/images/word2vec.png)\n",
    "\n",
    "Word2vec is a technique for natural language processing. The word2vec algorithm uses a neural network model to learn word associations from a large corpus of text. Once trained, such a model can detect synonymous words or suggest additional words for a partial sentence."
   ]
  },
  {
   "cell_type": "markdown",
   "metadata": {
    "id": "FtydcWXIoLTM"
   },
   "source": [
    "Word2Vec is one of the most popular technique to learn word embeddings using shallow neural network. It was developed by Tomas Mikolov in 2013 at Google.\n",
    "\n",
    "The model uses Spacy (en_core_web_lg) as the Corpus.\n",
    "\n",
    "spaCy is an open-source software library for advanced natural language processing, written in the programming languages Python and Cython. The library is published under the MIT license and its main developers are Matthew Honnibal and Ines Montani, the founders of the software company Explosion."
   ]
  },
  {
   "cell_type": "markdown",
   "metadata": {
    "id": "UjkD3gUUoLTO"
   },
   "source": [
    "### Download and Import required libraries for Word2Vec"
   ]
  },
  {
   "cell_type": "code",
   "execution_count": null,
   "metadata": {
    "colab": {
     "base_uri": "https://localhost:8080/"
    },
    "id": "TOrZJN0WqOf5",
    "outputId": "ddb2bf27-97c9-4564-9dfc-f0ae8f68a981"
   },
   "outputs": [],
   "source": [
    "!pip install spacy\n",
    "!python -m spacy download en_core_web_lg\n",
    "!python -m spacy download en_core_web_sm"
   ]
  },
  {
   "cell_type": "code",
   "execution_count": 2,
   "metadata": {
    "id": "NehEs5ZEqOam"
   },
   "outputs": [],
   "source": [
    "import spacy"
   ]
  },
  {
   "cell_type": "code",
   "execution_count": 3,
   "metadata": {
    "id": "2ypjoY51wdW5"
   },
   "outputs": [],
   "source": [
    "import en_core_web_lg\n",
    "nlp = en_core_web_lg.load()"
   ]
  },
  {
   "cell_type": "code",
   "execution_count": 60,
   "metadata": {},
   "outputs": [],
   "source": [
    "# DataFrame\n",
    "import pandas as pd \n",
    "\n",
    "# plotting\n",
    "import seaborn as sns\n",
    "from wordcloud import WordCloud\n",
    "import matplotlib.pyplot as plt\n",
    "\n",
    "# nltk\n",
    "import nltk\n",
    "from nltk.stem import WordNetLemmatizer\n",
    "from nltk.corpus import stopwords\n",
    "from nltk.tokenize import word_tokenize\n",
    "\n",
    "# sklearn\n",
    "from sklearn.model_selection import train_test_split\n",
    "from sklearn.feature_extraction.text import TfidfVectorizer\n",
    "from sklearn.metrics import confusion_matrix, classification_report\n",
    "\n",
    "from sklearn.linear_model import LogisticRegression\n",
    "from sklearn.svm import LinearSVC\n",
    "from sklearn.ensemble import RandomForestClassifier\n",
    "from sklearn.naive_bayes import BernoulliNB\n",
    "\n",
    "\n",
    "# Utility\n",
    "import pandas as pd\n",
    "import numpy as np \n",
    "import warnings\n",
    "warnings.filterwarnings('ignore')\n",
    "import re\n",
    "import string\n",
    "import pickle"
   ]
  },
  {
   "cell_type": "code",
   "execution_count": 4,
   "metadata": {
    "colab": {
     "base_uri": "https://localhost:8080/"
    },
    "id": "W8YY9Yoowitr",
    "outputId": "b85fc9d5-7fdb-4365-93d0-793f63db06b9"
   },
   "outputs": [
    {
     "name": "stdout",
     "output_type": "stream",
     "text": [
      "king king 1.0\n",
      "king man 0.4088461\n",
      "king woman 0.26556593\n",
      "man king 0.4088461\n",
      "man man 1.0\n",
      "man woman 0.7401745\n",
      "woman king 0.26556593\n",
      "woman man 0.7401745\n",
      "woman woman 1.0\n"
     ]
    }
   ],
   "source": [
    "# Example showing how similarity works\n",
    "x = 'king man woman'\n",
    "doc = nlp(x)\n",
    "\n",
    "for token1 in doc:\n",
    "  for token2 in doc:\n",
    "    print(token1.text, token2.text, token1.similarity(token2))"
   ]
  },
  {
   "cell_type": "markdown",
   "metadata": {
    "id": "Dur1zlKbzN2h"
   },
   "source": [
    "### Downloading the dataset"
   ]
  },
  {
   "cell_type": "code",
   "execution_count": null,
   "metadata": {},
   "outputs": [],
   "source": [
    "!git clone https://gitlab.com/sayantan.world98/sentiment-analysis-amazon-health-and-personal-care.git"
   ]
  },
  {
   "cell_type": "code",
   "execution_count": 57,
   "metadata": {
    "id": "rvs8pzlGzQkG"
   },
   "outputs": [],
   "source": [
    "# Loading the dataset in a dataframe\n",
    "df = pd.read_json('/content/sentiment-analysis-amazon-health-and-personal-care/dataset/Health_and_Personal_Care_5.json', lines=True)"
   ]
  },
  {
   "cell_type": "code",
   "execution_count": 58,
   "metadata": {
    "colab": {
     "base_uri": "https://localhost:8080/",
     "height": 204
    },
    "id": "x0XHIjCEza93",
    "outputId": "b876c1db-bcc3-41ff-9d38-7a58473de8ce"
   },
   "outputs": [
    {
     "data": {
      "text/html": [
       "<div>\n",
       "<style scoped>\n",
       "    .dataframe tbody tr th:only-of-type {\n",
       "        vertical-align: middle;\n",
       "    }\n",
       "\n",
       "    .dataframe tbody tr th {\n",
       "        vertical-align: top;\n",
       "    }\n",
       "\n",
       "    .dataframe thead th {\n",
       "        text-align: right;\n",
       "    }\n",
       "</style>\n",
       "<table border=\"1\" class=\"dataframe\">\n",
       "  <thead>\n",
       "    <tr style=\"text-align: right;\">\n",
       "      <th></th>\n",
       "      <th>reviewerID</th>\n",
       "      <th>asin</th>\n",
       "      <th>reviewerName</th>\n",
       "      <th>helpful</th>\n",
       "      <th>reviewText</th>\n",
       "      <th>overall</th>\n",
       "      <th>summary</th>\n",
       "      <th>unixReviewTime</th>\n",
       "      <th>reviewTime</th>\n",
       "    </tr>\n",
       "  </thead>\n",
       "  <tbody>\n",
       "    <tr>\n",
       "      <th>0</th>\n",
       "      <td>ALC5GH8CAMAI7</td>\n",
       "      <td>159985130X</td>\n",
       "      <td>AnnN</td>\n",
       "      <td>[1, 1]</td>\n",
       "      <td>This is a great little gadget to have around. ...</td>\n",
       "      <td>5</td>\n",
       "      <td>Handy little gadget</td>\n",
       "      <td>1294185600</td>\n",
       "      <td>01 5, 2011</td>\n",
       "    </tr>\n",
       "    <tr>\n",
       "      <th>1</th>\n",
       "      <td>AHKSURW85PJUE</td>\n",
       "      <td>159985130X</td>\n",
       "      <td>AZ buyer \"AZ buyer\"</td>\n",
       "      <td>[1, 1]</td>\n",
       "      <td>I would recommend this for a travel magnifier ...</td>\n",
       "      <td>4</td>\n",
       "      <td>Small &amp; may need to encourage battery</td>\n",
       "      <td>1329523200</td>\n",
       "      <td>02 18, 2012</td>\n",
       "    </tr>\n",
       "    <tr>\n",
       "      <th>2</th>\n",
       "      <td>A38RMU1Y5TDP9</td>\n",
       "      <td>159985130X</td>\n",
       "      <td>Bob Tobias \"Robert Tobias\"</td>\n",
       "      <td>[75, 77]</td>\n",
       "      <td>What I liked was the quality of the lens and t...</td>\n",
       "      <td>4</td>\n",
       "      <td>Very good but not great</td>\n",
       "      <td>1275955200</td>\n",
       "      <td>06 8, 2010</td>\n",
       "    </tr>\n",
       "    <tr>\n",
       "      <th>3</th>\n",
       "      <td>A1XZUG7DFXXOS4</td>\n",
       "      <td>159985130X</td>\n",
       "      <td>Cat lover</td>\n",
       "      <td>[56, 60]</td>\n",
       "      <td>Love the Great point light pocket magnifier!  ...</td>\n",
       "      <td>4</td>\n",
       "      <td>great addition to your purse</td>\n",
       "      <td>1202428800</td>\n",
       "      <td>02 8, 2008</td>\n",
       "    </tr>\n",
       "    <tr>\n",
       "      <th>4</th>\n",
       "      <td>A1MS3M7M7AM13X</td>\n",
       "      <td>159985130X</td>\n",
       "      <td>Cricketoes</td>\n",
       "      <td>[1, 1]</td>\n",
       "      <td>This is very nice. You pull out on the magnifi...</td>\n",
       "      <td>5</td>\n",
       "      <td>Very nice and convenient.</td>\n",
       "      <td>1313452800</td>\n",
       "      <td>08 16, 2011</td>\n",
       "    </tr>\n",
       "  </tbody>\n",
       "</table>\n",
       "</div>"
      ],
      "text/plain": [
       "       reviewerID        asin                reviewerName   helpful  \\\n",
       "0   ALC5GH8CAMAI7  159985130X                        AnnN    [1, 1]   \n",
       "1   AHKSURW85PJUE  159985130X         AZ buyer \"AZ buyer\"    [1, 1]   \n",
       "2   A38RMU1Y5TDP9  159985130X  Bob Tobias \"Robert Tobias\"  [75, 77]   \n",
       "3  A1XZUG7DFXXOS4  159985130X                   Cat lover  [56, 60]   \n",
       "4  A1MS3M7M7AM13X  159985130X                  Cricketoes    [1, 1]   \n",
       "\n",
       "                                          reviewText  overall  \\\n",
       "0  This is a great little gadget to have around. ...        5   \n",
       "1  I would recommend this for a travel magnifier ...        4   \n",
       "2  What I liked was the quality of the lens and t...        4   \n",
       "3  Love the Great point light pocket magnifier!  ...        4   \n",
       "4  This is very nice. You pull out on the magnifi...        5   \n",
       "\n",
       "                                 summary  unixReviewTime   reviewTime  \n",
       "0                    Handy little gadget      1294185600   01 5, 2011  \n",
       "1  Small & may need to encourage battery      1329523200  02 18, 2012  \n",
       "2                Very good but not great      1275955200   06 8, 2010  \n",
       "3           great addition to your purse      1202428800   02 8, 2008  \n",
       "4              Very nice and convenient.      1313452800  08 16, 2011  "
      ]
     },
     "execution_count": 58,
     "metadata": {},
     "output_type": "execute_result"
    }
   ],
   "source": [
    "df.head()"
   ]
  },
  {
   "cell_type": "markdown",
   "metadata": {},
   "source": [
    "**<font color='red'>To see the visualization of the Data Frame plese refer to Part 1</font>**"
   ]
  },
  {
   "cell_type": "markdown",
   "metadata": {},
   "source": [
    "### Data Cleaning\n",
    "\n",
    "We can see we have a lot of 5 star (positive) reviews compared to the negative ones. Lets consider: \n",
    "- 5 and 4 stared reviews as positive class(i.e class - 1).\n",
    "- 1 and 2 stared reviews as negative class(i.e class - 0). \n",
    "\n",
    "As we have a biased dataset lets use 32,000 positive reviews and 32,000 negative reviews."
   ]
  },
  {
   "cell_type": "code",
   "execution_count": 61,
   "metadata": {},
   "outputs": [],
   "source": [
    "# We use this to give a weight to the helpful reviews and we also applied smoothing.\n",
    "df['score'] = df.helpful.apply(lambda x: x[0] / (x[1] + 2))\n",
    "df_pos = df[(df.overall == 5) | (df.overall == 4)]\n",
    "df_pos = df_pos.sample(n=32000, weights=df.score, random_state=42)\n",
    "df_neg = df[(df.overall == 2) | (df.overall == 1)]\n",
    "df_neg = df_neg.sample(n=32000, random_state=42)"
   ]
  },
  {
   "cell_type": "code",
   "execution_count": 62,
   "metadata": {},
   "outputs": [],
   "source": [
    "df_all = pd.concat([df_pos, df_neg])"
   ]
  },
  {
   "cell_type": "code",
   "execution_count": 64,
   "metadata": {},
   "outputs": [],
   "source": [
    "# Positive class - 1, Negative class - 0\n",
    "def sentiment_score(n):\n",
    "  if n == 5 or n == 4:\n",
    "    return 1\n",
    "  return 0\n",
    "\n",
    "df_all['overall']=df_all['overall'].apply(lambda x: sentiment_score(x))"
   ]
  },
  {
   "cell_type": "code",
   "execution_count": 65,
   "metadata": {},
   "outputs": [],
   "source": [
    "df_all = df_all.drop(['reviewerName', 'helpful', 'unixReviewTime', 'reviewTime', 'score', 'summary', 'asin', 'reviewerID'], axis=1)"
   ]
  },
  {
   "cell_type": "code",
   "execution_count": 66,
   "metadata": {},
   "outputs": [
    {
     "data": {
      "text/html": [
       "<div>\n",
       "<style scoped>\n",
       "    .dataframe tbody tr th:only-of-type {\n",
       "        vertical-align: middle;\n",
       "    }\n",
       "\n",
       "    .dataframe tbody tr th {\n",
       "        vertical-align: top;\n",
       "    }\n",
       "\n",
       "    .dataframe thead th {\n",
       "        text-align: right;\n",
       "    }\n",
       "</style>\n",
       "<table border=\"1\" class=\"dataframe\">\n",
       "  <thead>\n",
       "    <tr style=\"text-align: right;\">\n",
       "      <th></th>\n",
       "      <th>reviewText</th>\n",
       "      <th>overall</th>\n",
       "    </tr>\n",
       "  </thead>\n",
       "  <tbody>\n",
       "    <tr>\n",
       "      <th>0</th>\n",
       "      <td>My stepdad needed a shower chair, and the ones...</td>\n",
       "      <td>1</td>\n",
       "    </tr>\n",
       "    <tr>\n",
       "      <th>1</th>\n",
       "      <td>It works.  However it had a lot of bubbles ins...</td>\n",
       "      <td>1</td>\n",
       "    </tr>\n",
       "    <tr>\n",
       "      <th>2</th>\n",
       "      <td>We bought these for my 8 year old with high-fu...</td>\n",
       "      <td>1</td>\n",
       "    </tr>\n",
       "    <tr>\n",
       "      <th>3</th>\n",
       "      <td>I've owned a front-loader (HE) washing machine...</td>\n",
       "      <td>1</td>\n",
       "    </tr>\n",
       "    <tr>\n",
       "      <th>4</th>\n",
       "      <td>Good value for use in the home; not too big, n...</td>\n",
       "      <td>1</td>\n",
       "    </tr>\n",
       "    <tr>\n",
       "      <th>...</th>\n",
       "      <td>...</td>\n",
       "      <td>...</td>\n",
       "    </tr>\n",
       "    <tr>\n",
       "      <th>63995</th>\n",
       "      <td>Picked up a pair of Duracell AA batteries on a...</td>\n",
       "      <td>0</td>\n",
       "    </tr>\n",
       "    <tr>\n",
       "      <th>63996</th>\n",
       "      <td>This dried up after only one or two sparse use...</td>\n",
       "      <td>0</td>\n",
       "    </tr>\n",
       "    <tr>\n",
       "      <th>63997</th>\n",
       "      <td>I had dislocated and broken my shoulder nearly...</td>\n",
       "      <td>0</td>\n",
       "    </tr>\n",
       "    <tr>\n",
       "      <th>63998</th>\n",
       "      <td>When I was a child I remember reading a short ...</td>\n",
       "      <td>0</td>\n",
       "    </tr>\n",
       "    <tr>\n",
       "      <th>63999</th>\n",
       "      <td>This served as my introduction to the Sensa pr...</td>\n",
       "      <td>0</td>\n",
       "    </tr>\n",
       "  </tbody>\n",
       "</table>\n",
       "<p>64000 rows × 2 columns</p>\n",
       "</div>"
      ],
      "text/plain": [
       "                                              reviewText  overall\n",
       "0      My stepdad needed a shower chair, and the ones...        1\n",
       "1      It works.  However it had a lot of bubbles ins...        1\n",
       "2      We bought these for my 8 year old with high-fu...        1\n",
       "3      I've owned a front-loader (HE) washing machine...        1\n",
       "4      Good value for use in the home; not too big, n...        1\n",
       "...                                                  ...      ...\n",
       "63995  Picked up a pair of Duracell AA batteries on a...        0\n",
       "63996  This dried up after only one or two sparse use...        0\n",
       "63997  I had dislocated and broken my shoulder nearly...        0\n",
       "63998  When I was a child I remember reading a short ...        0\n",
       "63999  This served as my introduction to the Sensa pr...        0\n",
       "\n",
       "[64000 rows x 2 columns]"
      ]
     },
     "execution_count": 66,
     "metadata": {},
     "output_type": "execute_result"
    }
   ],
   "source": [
    "# Reset index\n",
    "df_all.reset_index().drop(['index'], axis=1)"
   ]
  },
  {
   "cell_type": "code",
   "execution_count": 67,
   "metadata": {},
   "outputs": [],
   "source": [
    "# 64k reviews - Takes around 7 mins to get cleaned\n",
    "df_all['cleaned_reviews'] = df_all['reviewText'].apply(lambda x: get_clean(x))"
   ]
  },
  {
   "cell_type": "code",
   "execution_count": 68,
   "metadata": {},
   "outputs": [],
   "source": [
    "def get_vec(x):\n",
    "  doc = nlp(x)\n",
    "  vec = doc.vector\n",
    "  return vec"
   ]
  },
  {
   "cell_type": "code",
   "execution_count": 69,
   "metadata": {},
   "outputs": [
    {
     "data": {
      "text/html": [
       "<div>\n",
       "<style scoped>\n",
       "    .dataframe tbody tr th:only-of-type {\n",
       "        vertical-align: middle;\n",
       "    }\n",
       "\n",
       "    .dataframe tbody tr th {\n",
       "        vertical-align: top;\n",
       "    }\n",
       "\n",
       "    .dataframe thead th {\n",
       "        text-align: right;\n",
       "    }\n",
       "</style>\n",
       "<table border=\"1\" class=\"dataframe\">\n",
       "  <thead>\n",
       "    <tr style=\"text-align: right;\">\n",
       "      <th></th>\n",
       "      <th>reviewText</th>\n",
       "      <th>overall</th>\n",
       "      <th>cleaned_reviews</th>\n",
       "    </tr>\n",
       "  </thead>\n",
       "  <tbody>\n",
       "    <tr>\n",
       "      <th>114050</th>\n",
       "      <td>My stepdad needed a shower chair, and the ones...</td>\n",
       "      <td>1</td>\n",
       "      <td>my stepdad needed a shower chair and the ones ...</td>\n",
       "    </tr>\n",
       "    <tr>\n",
       "      <th>329492</th>\n",
       "      <td>It works.  However it had a lot of bubbles ins...</td>\n",
       "      <td>1</td>\n",
       "      <td>it works however it had a lot of bubbles insid...</td>\n",
       "    </tr>\n",
       "    <tr>\n",
       "      <th>245270</th>\n",
       "      <td>We bought these for my 8 year old with high-fu...</td>\n",
       "      <td>1</td>\n",
       "      <td>we bought these for my 8 year old with highfun...</td>\n",
       "    </tr>\n",
       "    <tr>\n",
       "      <th>195288</th>\n",
       "      <td>I've owned a front-loader (HE) washing machine...</td>\n",
       "      <td>1</td>\n",
       "      <td>i have owned a frontloader he washing machine ...</td>\n",
       "    </tr>\n",
       "    <tr>\n",
       "      <th>46761</th>\n",
       "      <td>Good value for use in the home; not too big, n...</td>\n",
       "      <td>1</td>\n",
       "      <td>good value for use in the home not too big not...</td>\n",
       "    </tr>\n",
       "    <tr>\n",
       "      <th>...</th>\n",
       "      <td>...</td>\n",
       "      <td>...</td>\n",
       "      <td>...</td>\n",
       "    </tr>\n",
       "    <tr>\n",
       "      <th>179920</th>\n",
       "      <td>Picked up a pair of Duracell AA batteries on a...</td>\n",
       "      <td>0</td>\n",
       "      <td>picked up a pair of duracell aa batteries on a...</td>\n",
       "    </tr>\n",
       "    <tr>\n",
       "      <th>210206</th>\n",
       "      <td>This dried up after only one or two sparse use...</td>\n",
       "      <td>0</td>\n",
       "      <td>this dried up after only one or two sparse use...</td>\n",
       "    </tr>\n",
       "    <tr>\n",
       "      <th>112793</th>\n",
       "      <td>I had dislocated and broken my shoulder nearly...</td>\n",
       "      <td>0</td>\n",
       "      <td>i had dislocated and broken my shoulder nearly...</td>\n",
       "    </tr>\n",
       "    <tr>\n",
       "      <th>44474</th>\n",
       "      <td>When I was a child I remember reading a short ...</td>\n",
       "      <td>0</td>\n",
       "      <td>when i was a child i remember reading a short ...</td>\n",
       "    </tr>\n",
       "    <tr>\n",
       "      <th>295871</th>\n",
       "      <td>This served as my introduction to the Sensa pr...</td>\n",
       "      <td>0</td>\n",
       "      <td>this served as my introduction to the sensa pr...</td>\n",
       "    </tr>\n",
       "  </tbody>\n",
       "</table>\n",
       "<p>64000 rows × 3 columns</p>\n",
       "</div>"
      ],
      "text/plain": [
       "                                               reviewText  overall  \\\n",
       "114050  My stepdad needed a shower chair, and the ones...        1   \n",
       "329492  It works.  However it had a lot of bubbles ins...        1   \n",
       "245270  We bought these for my 8 year old with high-fu...        1   \n",
       "195288  I've owned a front-loader (HE) washing machine...        1   \n",
       "46761   Good value for use in the home; not too big, n...        1   \n",
       "...                                                   ...      ...   \n",
       "179920  Picked up a pair of Duracell AA batteries on a...        0   \n",
       "210206  This dried up after only one or two sparse use...        0   \n",
       "112793  I had dislocated and broken my shoulder nearly...        0   \n",
       "44474   When I was a child I remember reading a short ...        0   \n",
       "295871  This served as my introduction to the Sensa pr...        0   \n",
       "\n",
       "                                          cleaned_reviews  \n",
       "114050  my stepdad needed a shower chair and the ones ...  \n",
       "329492  it works however it had a lot of bubbles insid...  \n",
       "245270  we bought these for my 8 year old with highfun...  \n",
       "195288  i have owned a frontloader he washing machine ...  \n",
       "46761   good value for use in the home not too big not...  \n",
       "...                                                   ...  \n",
       "179920  picked up a pair of duracell aa batteries on a...  \n",
       "210206  this dried up after only one or two sparse use...  \n",
       "112793  i had dislocated and broken my shoulder nearly...  \n",
       "44474   when i was a child i remember reading a short ...  \n",
       "295871  this served as my introduction to the sensa pr...  \n",
       "\n",
       "[64000 rows x 3 columns]"
      ]
     },
     "execution_count": 69,
     "metadata": {},
     "output_type": "execute_result"
    }
   ],
   "source": [
    "df_all"
   ]
  },
  {
   "cell_type": "markdown",
   "metadata": {},
   "source": [
    "An amazing Preprocessing Data Module has been imported which works very well for Word2Vec.\n",
    "\n",
    "Link to the Github Repo if want to read more: https://github.com/Sayantan-world/preprocess_kgptalkie"
   ]
  },
  {
   "cell_type": "code",
   "execution_count": 1,
   "metadata": {},
   "outputs": [
    {
     "name": "stdout",
     "output_type": "stream",
     "text": [
      "Collecting git+https://github.com/Sayantan-world/preprocess_kgptalkie.git\n",
      "  Cloning https://github.com/Sayantan-world/preprocess_kgptalkie.git to /tmp/pip-req-build-7p8f46s3\n",
      "  Running command git clone -q https://github.com/Sayantan-world/preprocess_kgptalkie.git /tmp/pip-req-build-7p8f46s3\n",
      "Requirement already satisfied (use --upgrade to upgrade): preprocess-kgptalkie==0.1.3 from git+https://github.com/Sayantan-world/preprocess_kgptalkie.git in /home/sayantan/anaconda3/lib/python3.7/site-packages\n",
      "Building wheels for collected packages: preprocess-kgptalkie\n",
      "  Building wheel for preprocess-kgptalkie (setup.py) ... \u001b[?25ldone\n",
      "\u001b[?25h  Created wheel for preprocess-kgptalkie: filename=preprocess_kgptalkie-0.1.3-py3-none-any.whl size=7633 sha256=dcc065b61da7fc2199b7fe6bf56905da214e20bd734468f3cfdfacee3f079823\n",
      "  Stored in directory: /tmp/pip-ephem-wheel-cache-4cu25a5f/wheels/14/16/a4/320422c181fa512b38c9e98841dd0a9697fd8573ebf695a6cf\n",
      "Successfully built preprocess-kgptalkie\n"
     ]
    }
   ],
   "source": [
    "!pip install git+https://github.com/Sayantan-world/preprocess_kgptalkie.git"
   ]
  },
  {
   "cell_type": "code",
   "execution_count": 4,
   "metadata": {},
   "outputs": [],
   "source": [
    "import preprocess_kgptalkie as ps\n",
    "import re"
   ]
  },
  {
   "cell_type": "code",
   "execution_count": 5,
   "metadata": {},
   "outputs": [],
   "source": [
    "def get_clean(x):\n",
    "    x = str(x).lower().replace('\\\\', '').replace('_', ' ')\n",
    "    x = ps.cont_exp(x)\n",
    "    x = ps.remove_emails(x)\n",
    "    x = ps.remove_urls(x)\n",
    "    x = ps.remove_html_tags(x)\n",
    "    x = ps.remove_rt(x)\n",
    "    x = ps.remove_accented_chars(x)\n",
    "    x = ps.remove_special_chars(x)\n",
    "    x = ps.remove_dups_char(x)\n",
    "    return x"
   ]
  },
  {
   "cell_type": "code",
   "execution_count": 6,
   "metadata": {},
   "outputs": [
    {
     "data": {
      "text/plain": [
       "'this is horrible product curse you amazon for delivering such shit was not expecting this'"
      ]
     },
     "execution_count": 6,
     "metadata": {},
     "output_type": "execute_result"
    }
   ],
   "source": [
    "# Lets check how the cleaning works\n",
    "x = \"-_- Thisssss is Horrible product, Curse u @amazon for delivering such Shiiiiit, wasn't expecting this.\"\n",
    "get_clean(x)"
   ]
  },
  {
   "cell_type": "markdown",
   "metadata": {},
   "source": [
    "Now lets clean Our Review Text to generate a new column for Clean text using the Text Preprocessing Module"
   ]
  },
  {
   "cell_type": "markdown",
   "metadata": {},
   "source": [
    "#### <font color='red'> Warning!!!</font>\n",
    "\n",
    "- The cell below (word to vector on 60k reviews) will take 15-20 mins to run in a local environment (Tested on i5 8GB RAM).\n",
    "- It will take around 2.5 Hrs to run on Colab or Kaggle "
   ]
  },
  {
   "cell_type": "code",
   "execution_count": 70,
   "metadata": {},
   "outputs": [],
   "source": [
    "df_all['vec'] = df_all['cleaned_reviews'].apply(lambda x: get_vec(x))"
   ]
  },
  {
   "cell_type": "code",
   "execution_count": 71,
   "metadata": {},
   "outputs": [],
   "source": [
    "X = df_all['vec'].to_numpy()\n",
    "X = X.reshape(-1, 1)"
   ]
  },
  {
   "cell_type": "code",
   "execution_count": 72,
   "metadata": {},
   "outputs": [],
   "source": [
    "X = np.concatenate(np.concatenate(X, axis = 0), axis = 0).reshape(-1, 300)"
   ]
  },
  {
   "cell_type": "code",
   "execution_count": 73,
   "metadata": {},
   "outputs": [
    {
     "data": {
      "text/plain": [
       "(64000, 300)"
      ]
     },
     "execution_count": 73,
     "metadata": {},
     "output_type": "execute_result"
    }
   ],
   "source": [
    "X.shape"
   ]
  },
  {
   "cell_type": "code",
   "execution_count": 74,
   "metadata": {},
   "outputs": [],
   "source": [
    "y = df_all['overall']"
   ]
  },
  {
   "cell_type": "markdown",
   "metadata": {},
   "source": [
    "### Split train and test\n",
    "\n",
    "The Preprocessed Data is divided into 2 sets of data:\n",
    "\n",
    "- Training Data: The dataset upon which the model would be trained on. Contains 80% data.\n",
    "- Test Data: The dataset upon which the model would be tested against. Contains 20% data.\n",
    "\n",
    "We selected random seed to be 0."
   ]
  },
  {
   "cell_type": "code",
   "execution_count": 75,
   "metadata": {},
   "outputs": [],
   "source": [
    "X_train, X_test, y_train, y_test = train_test_split(X, y, test_size = 0.2, random_state = 0, stratify = y)"
   ]
  },
  {
   "cell_type": "markdown",
   "metadata": {},
   "source": [
    "### Evaluating the Model"
   ]
  },
  {
   "cell_type": "code",
   "execution_count": 89,
   "metadata": {},
   "outputs": [],
   "source": [
    "def model_Evaluate(model):\n",
    "    #accuracy of model on training data\n",
    "    acc_train=model.score(X_train, y_train)\n",
    "    #accuracy of model on test data\n",
    "    acc_test=model.score(X_test, y_test)\n",
    "    \n",
    "    print('Accuracy of model on training data : {}'.format(acc_train*100))\n",
    "    print('Accuracy of model on testing data : {} \\n'.format(acc_test*100))\n",
    "\n",
    "    # Predict values for Test dataset\n",
    "    y_pred = model.predict(X_test)\n",
    "\n",
    "    # Print the evaluation metrics for the dataset.\n",
    "    print(classification_report(y_test, y_pred))\n",
    "    \n",
    "    # Compute and plot the Confusion matrix\n",
    "    cf_matrix = confusion_matrix(y_test, y_pred)\n",
    "\n",
    "    print(cf_matrix)\n",
    "    categories  = ['Negative','Positive']\n",
    "    group_names = ['True Neg','False Pos', 'False Neg','True Pos']\n",
    "    group_percentages = ['{0:.2%}'.format(value) for value in cf_matrix.flatten() / np.sum(cf_matrix)]\n",
    "\n",
    "    labels = [f'{v1}\\n{v2}' for v1, v2 in zip(group_names,group_percentages)]\n",
    "    labels = np.asarray(labels).reshape(2,2)\n",
    "\n",
    "    sns.heatmap(cf_matrix, annot = labels, cmap = 'YlGn',fmt = '',\n",
    "                xticklabels = categories, yticklabels = categories)\n",
    "\n",
    "    plt.xlabel(\"Predicted values\", fontdict = {'size':14}, labelpad = 10)\n",
    "    plt.ylabel(\"Actual values\"   , fontdict = {'size':14}, labelpad = 10)\n",
    "    plt.title (\"Confusion Matrix\", fontdict = {'size':18}, pad = 20)"
   ]
  },
  {
   "cell_type": "markdown",
   "metadata": {},
   "source": [
    "### Logistic Regression\n",
    "\n",
    "Logistic regression is a statistical model that in its basic form uses a logistic function to model a binary dependent variable, although many more complex extensions exist. In regression analysis, logistic regression (or logit regression) is estimating the parameters of a logistic model (a form of binary regression).\n",
    "\n",
    "To read more: https://machinelearningmastery.com/logistic-regression-for-machine-learning/"
   ]
  },
  {
   "cell_type": "code",
   "execution_count": 90,
   "metadata": {},
   "outputs": [
    {
     "name": "stdout",
     "output_type": "stream",
     "text": [
      "Accuracy of model on training data : 79.99609375\n",
      "Accuracy of model on testing data : 79.640625 \n",
      "\n",
      "              precision    recall  f1-score   support\n",
      "\n",
      "           0       0.80      0.79      0.80      6400\n",
      "           1       0.79      0.80      0.80      6400\n",
      "\n",
      "    accuracy                           0.80     12800\n",
      "   macro avg       0.80      0.80      0.80     12800\n",
      "weighted avg       0.80      0.80      0.80     12800\n",
      "\n",
      "[[5081 1319]\n",
      " [1287 5113]]\n"
     ]
    },
    {
     "data": {
      "image/png": "[encoded data removed]",
      "text/plain": [
       "<Figure size 432x288 with 2 Axes>"
      ]
     },
     "metadata": {
      "needs_background": "light"
     },
     "output_type": "display_data"
    }
   ],
   "source": [
    "lg = LogisticRegression()\n",
    "lg.fit(X_train, y_train)\n",
    "model_Evaluate(lg)"
   ]
  },
  {
   "cell_type": "markdown",
   "metadata": {},
   "source": [
    "**Observation**\n",
    "\n",
    "- <font color=green>Performs quite good in detecting the True Positives and True Negatives.\n",
    "- This Model did not overfit or underfit.</font>\n",
    "- Can be concluded to be one of the best choice when it comes to binary classification using Word2Vec."
   ]
  },
  {
   "cell_type": "markdown",
   "metadata": {},
   "source": [
    "### Linear Support Vector Classification.\n",
    "\n",
    "Similar to SVC with parameter kernel=’linear’, but implemented in terms of liblinear rather than libsvm, so it has more flexibility in the choice of penalties and loss functions and should scale better to large numbers of samples.\n",
    "\n",
    "This class supports both dense and sparse input and the multiclass support is handled according to a one-vs-the-rest scheme.\n",
    "\n",
    "To read more: https://www.kaggle.com/xingewang/the-math-behind-linear-svc-classifier"
   ]
  },
  {
   "cell_type": "code",
   "execution_count": 91,
   "metadata": {},
   "outputs": [
    {
     "name": "stdout",
     "output_type": "stream",
     "text": [
      "Accuracy of model on training data : 80.21484375\n",
      "Accuracy of model on testing data : 79.6875 \n",
      "\n",
      "              precision    recall  f1-score   support\n",
      "\n",
      "           0       0.80      0.79      0.80      6400\n",
      "           1       0.79      0.80      0.80      6400\n",
      "\n",
      "    accuracy                           0.80     12800\n",
      "   macro avg       0.80      0.80      0.80     12800\n",
      "weighted avg       0.80      0.80      0.80     12800\n",
      "\n",
      "[[5071 1329]\n",
      " [1271 5129]]\n"
     ]
    },
    {
     "data": {
      "image/png": "[encoded data removed]",
      "text/plain": [
       "<Figure size 432x288 with 2 Axes>"
      ]
     },
     "metadata": {
      "needs_background": "light"
     },
     "output_type": "display_data"
    }
   ],
   "source": [
    "svm = LinearSVC()\n",
    "svm.fit(X_train, y_train)\n",
    "model_Evaluate(svm)"
   ]
  },
  {
   "cell_type": "markdown",
   "metadata": {},
   "source": [
    "**Observation**\n",
    "\n",
    "- <font color=green>Performs quite good in detecting the True Positives and True Negatives.</font>\n",
    "- <font color=green>This Model did not overfit or underfit.</font>\n",
    "- <font color=green>This Model works significantly better with Word2Vec.</font>\n",
    "- Definitely a true competitor of Logistic Regression."
   ]
  },
  {
   "cell_type": "markdown",
   "metadata": {},
   "source": [
    "### Random Forest Classifier.\n",
    "\n",
    "A random forest is a meta estimator that fits a number of decision tree classifiers on various sub-samples of the dataset and uses averaging to improve the predictive accuracy and control over-fitting. The sub-sample size is controlled with the max_samples parameter if bootstrap=True (default), otherwise the whole dataset is used to build each tree."
   ]
  },
  {
   "cell_type": "code",
   "execution_count": 105,
   "metadata": {},
   "outputs": [
    {
     "name": "stdout",
     "output_type": "stream",
     "text": [
      "Accuracy of model on training data : 99.986328125\n",
      "Accuracy of model on testing data : 76.03125 \n",
      "\n",
      "              precision    recall  f1-score   support\n",
      "\n",
      "           0       0.76      0.77      0.76      6400\n",
      "           1       0.77      0.75      0.76      6400\n",
      "\n",
      "    accuracy                           0.76     12800\n",
      "   macro avg       0.76      0.76      0.76     12800\n",
      "weighted avg       0.76      0.76      0.76     12800\n",
      "\n",
      "[[4923 1477]\n",
      " [1591 4809]]\n"
     ]
    },
    {
     "data": {
      "image/png": "[encoded data removed]",
      "text/plain": [
       "<Figure size 432x288 with 2 Axes>"
      ]
     },
     "metadata": {
      "needs_background": "light"
     },
     "output_type": "display_data"
    }
   ],
   "source": [
    "rf = RandomForestClassifier()\n",
    "rf.fit(X_train, y_train)\n",
    "model_Evaluate(rf)"
   ]
  },
  {
   "cell_type": "markdown",
   "metadata": {},
   "source": [
    "**Observation**\n",
    "\n",
    "- <font color=orange>Does not perform too good in detecting the True Positives and True Negatives.</font>\n",
    "- <font color=red>This Model has a high tendency to overfit.</font>"
   ]
  },
  {
   "cell_type": "markdown",
   "metadata": {},
   "source": [
    "### Naive Bayes\n",
    "\n",
    "In statistics, naive Bayes classifiers are a family of simple \"probabilistic classifiers\" based on applying Bayes' theorem with strong (naïve) independence assumptions between the features (see Bayes classifier). They are among the simplest Bayesian network models, but coupled with kernel density estimation, they can achieve higher accuracy levels."
   ]
  },
  {
   "cell_type": "code",
   "execution_count": 93,
   "metadata": {},
   "outputs": [
    {
     "name": "stdout",
     "output_type": "stream",
     "text": [
      "Accuracy of model on training data : 69.140625\n",
      "Accuracy of model on testing data : 69.4140625 \n",
      "\n",
      "              precision    recall  f1-score   support\n",
      "\n",
      "           0       0.69      0.70      0.69      6400\n",
      "           1       0.70      0.69      0.69      6400\n",
      "\n",
      "    accuracy                           0.69     12800\n",
      "   macro avg       0.69      0.69      0.69     12800\n",
      "weighted avg       0.69      0.69      0.69     12800\n",
      "\n",
      "[[4457 1943]\n",
      " [1972 4428]]\n"
     ]
    },
    {
     "data": {
      "image/png": "[encoded data removed]",
      "text/plain": [
       "<Figure size 432x288 with 2 Axes>"
      ]
     },
     "metadata": {
      "needs_background": "light"
     },
     "output_type": "display_data"
    }
   ],
   "source": [
    "nb = BernoulliNB()\n",
    "nb.fit(X_train, y_train)\n",
    "model_Evaluate(nb)"
   ]
  },
  {
   "cell_type": "markdown",
   "metadata": {},
   "source": [
    "**Observation**\n",
    "\n",
    "- <font color='green'>This Model does not overfit or underfit.</font>\n",
    "- <font color='red'>Poor performance when compared to other models, but may gain higher accuracy if coupled with kernel density estimation.</font>\n"
   ]
  },
  {
   "cell_type": "markdown",
   "metadata": {},
   "source": [
    "**Multinomial Naive Bayes** does not support negative values so this is not appicable here."
   ]
  },
  {
   "cell_type": "markdown",
   "metadata": {},
   "source": [
    "**Note: For testing on your own reviews or to save the model, please refer to Part 1 of the notebook.**"
   ]
  },
  {
   "cell_type": "markdown",
   "metadata": {},
   "source": [
    "### Future Work\n",
    "\n",
    "- Training using RNN (Deep Learning).\n",
    "- Trying to handle sarcastic reviews.\n",
    "- Trying to resolve overfitting, which we found in some models.\n",
    "- Trying sentiment analysis on multiple class (for example Positive, Neutral, Negative)."
   ]
  },
  {
   "cell_type": "code",
   "execution_count": null,
   "metadata": {
    "id": "UFvNFt8Ocyft"
   },
   "outputs": [],
   "source": []
  }
 ],
 "metadata": {
  "colab": {
   "name": "Copy of word2vec Word Embedding | Sentiment Analysis.ipynb",
   "provenance": []
  },
  "kernelspec": {
   "display_name": "Python 3",
   "language": "python",
   "name": "python3"
  },
  "language_info": {
   "codemirror_mode": {
    "name": "ipython",
    "version": 3
   },
   "file_extension": ".py",
   "mimetype": "text/x-python",
   "name": "python",
   "nbconvert_exporter": "python",
   "pygments_lexer": "ipython3",
   "version": "3.7.4"
  }
 },
 "nbformat": 4,
 "nbformat_minor": 1
}
